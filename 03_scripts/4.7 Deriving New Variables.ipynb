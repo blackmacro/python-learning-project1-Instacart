{
 "cells": [
  {
   "cell_type": "markdown",
   "id": "bb6eabf9",
   "metadata": {},
   "source": [
    "# Content list\n",
    "1. Import libraries and data"
   ]
  },
  {
   "cell_type": "markdown",
   "id": "5402a0e7",
   "metadata": {},
   "source": [
    "# 1. Import libraries and data\n",
    "# 2. '4.7' exercise\n",
    "# 3. Task\n",
    "# 4. Export in pickle"
   ]
  },
  {
   "cell_type": "code",
   "execution_count": 5,
   "id": "90cef766",
   "metadata": {},
   "outputs": [],
   "source": [
    "#import libraries\n",
    "import pandas as pd\n",
    "import numpy as np\n",
    "import os"
   ]
  },
  {
   "cell_type": "code",
   "execution_count": 6,
   "id": "946acf91",
   "metadata": {},
   "outputs": [],
   "source": [
    "#Define path\n",
    "path = r'/Users/arturassada/Desktop/Instacart Basket Analysis'"
   ]
  },
  {
   "cell_type": "code",
   "execution_count": 7,
   "id": "ebbecd57",
   "metadata": {},
   "outputs": [],
   "source": [
    "# import new file orders_products_prior.csv\n",
    "ords_prods_merged = pd.read_csv(os.path.join(path, '02 Data', 'Prepared data', 'orders_products_merged.csv'))"
   ]
  },
  {
   "cell_type": "code",
   "execution_count": 10,
   "id": "e4e68e0a",
   "metadata": {},
   "outputs": [
    {
     "data": {
      "text/html": [
       "<div>\n",
       "<style scoped>\n",
       "    .dataframe tbody tr th:only-of-type {\n",
       "        vertical-align: middle;\n",
       "    }\n",
       "\n",
       "    .dataframe tbody tr th {\n",
       "        vertical-align: top;\n",
       "    }\n",
       "\n",
       "    .dataframe thead th {\n",
       "        text-align: right;\n",
       "    }\n",
       "</style>\n",
       "<table border=\"1\" class=\"dataframe\">\n",
       "  <thead>\n",
       "    <tr style=\"text-align: right;\">\n",
       "      <th></th>\n",
       "      <th>Unnamed: 0</th>\n",
       "      <th>Unnamed: 0_x</th>\n",
       "      <th>order_id</th>\n",
       "      <th>user_id</th>\n",
       "      <th>eval_set</th>\n",
       "      <th>order_number</th>\n",
       "      <th>order_dow</th>\n",
       "      <th>order_hour_of_day</th>\n",
       "      <th>days_since_prior_order</th>\n",
       "      <th>product_id</th>\n",
       "      <th>add_to_cart_order</th>\n",
       "      <th>reordered</th>\n",
       "      <th>_merge</th>\n",
       "      <th>Unnamed: 0_y</th>\n",
       "      <th>product_name</th>\n",
       "      <th>aisle_id</th>\n",
       "      <th>department_id</th>\n",
       "      <th>prices</th>\n",
       "    </tr>\n",
       "  </thead>\n",
       "  <tbody>\n",
       "    <tr>\n",
       "      <th>0</th>\n",
       "      <td>0</td>\n",
       "      <td>0</td>\n",
       "      <td>2539329</td>\n",
       "      <td>1</td>\n",
       "      <td>prior</td>\n",
       "      <td>1</td>\n",
       "      <td>2</td>\n",
       "      <td>8</td>\n",
       "      <td>NaN</td>\n",
       "      <td>196</td>\n",
       "      <td>1</td>\n",
       "      <td>0</td>\n",
       "      <td>both</td>\n",
       "      <td>195</td>\n",
       "      <td>Soda</td>\n",
       "      <td>77</td>\n",
       "      <td>7</td>\n",
       "      <td>9.0</td>\n",
       "    </tr>\n",
       "    <tr>\n",
       "      <th>1</th>\n",
       "      <td>1</td>\n",
       "      <td>1</td>\n",
       "      <td>2398795</td>\n",
       "      <td>1</td>\n",
       "      <td>prior</td>\n",
       "      <td>2</td>\n",
       "      <td>3</td>\n",
       "      <td>7</td>\n",
       "      <td>15.0</td>\n",
       "      <td>196</td>\n",
       "      <td>1</td>\n",
       "      <td>1</td>\n",
       "      <td>both</td>\n",
       "      <td>195</td>\n",
       "      <td>Soda</td>\n",
       "      <td>77</td>\n",
       "      <td>7</td>\n",
       "      <td>9.0</td>\n",
       "    </tr>\n",
       "    <tr>\n",
       "      <th>2</th>\n",
       "      <td>2</td>\n",
       "      <td>2</td>\n",
       "      <td>473747</td>\n",
       "      <td>1</td>\n",
       "      <td>prior</td>\n",
       "      <td>3</td>\n",
       "      <td>3</td>\n",
       "      <td>12</td>\n",
       "      <td>21.0</td>\n",
       "      <td>196</td>\n",
       "      <td>1</td>\n",
       "      <td>1</td>\n",
       "      <td>both</td>\n",
       "      <td>195</td>\n",
       "      <td>Soda</td>\n",
       "      <td>77</td>\n",
       "      <td>7</td>\n",
       "      <td>9.0</td>\n",
       "    </tr>\n",
       "    <tr>\n",
       "      <th>3</th>\n",
       "      <td>3</td>\n",
       "      <td>3</td>\n",
       "      <td>2254736</td>\n",
       "      <td>1</td>\n",
       "      <td>prior</td>\n",
       "      <td>4</td>\n",
       "      <td>4</td>\n",
       "      <td>7</td>\n",
       "      <td>29.0</td>\n",
       "      <td>196</td>\n",
       "      <td>1</td>\n",
       "      <td>1</td>\n",
       "      <td>both</td>\n",
       "      <td>195</td>\n",
       "      <td>Soda</td>\n",
       "      <td>77</td>\n",
       "      <td>7</td>\n",
       "      <td>9.0</td>\n",
       "    </tr>\n",
       "    <tr>\n",
       "      <th>4</th>\n",
       "      <td>4</td>\n",
       "      <td>4</td>\n",
       "      <td>431534</td>\n",
       "      <td>1</td>\n",
       "      <td>prior</td>\n",
       "      <td>5</td>\n",
       "      <td>4</td>\n",
       "      <td>15</td>\n",
       "      <td>28.0</td>\n",
       "      <td>196</td>\n",
       "      <td>1</td>\n",
       "      <td>1</td>\n",
       "      <td>both</td>\n",
       "      <td>195</td>\n",
       "      <td>Soda</td>\n",
       "      <td>77</td>\n",
       "      <td>7</td>\n",
       "      <td>9.0</td>\n",
       "    </tr>\n",
       "  </tbody>\n",
       "</table>\n",
       "</div>"
      ],
      "text/plain": [
       "   Unnamed: 0  Unnamed: 0_x  order_id  user_id eval_set  order_number  \\\n",
       "0           0             0   2539329        1    prior             1   \n",
       "1           1             1   2398795        1    prior             2   \n",
       "2           2             2    473747        1    prior             3   \n",
       "3           3             3   2254736        1    prior             4   \n",
       "4           4             4    431534        1    prior             5   \n",
       "\n",
       "   order_dow  order_hour_of_day  days_since_prior_order  product_id  \\\n",
       "0          2                  8                     NaN         196   \n",
       "1          3                  7                    15.0         196   \n",
       "2          3                 12                    21.0         196   \n",
       "3          4                  7                    29.0         196   \n",
       "4          4                 15                    28.0         196   \n",
       "\n",
       "   add_to_cart_order  reordered _merge  Unnamed: 0_y product_name  aisle_id  \\\n",
       "0                  1          0   both           195         Soda        77   \n",
       "1                  1          1   both           195         Soda        77   \n",
       "2                  1          1   both           195         Soda        77   \n",
       "3                  1          1   both           195         Soda        77   \n",
       "4                  1          1   both           195         Soda        77   \n",
       "\n",
       "   department_id  prices  \n",
       "0              7     9.0  \n",
       "1              7     9.0  \n",
       "2              7     9.0  \n",
       "3              7     9.0  \n",
       "4              7     9.0  "
      ]
     },
     "execution_count": 10,
     "metadata": {},
     "output_type": "execute_result"
    }
   ],
   "source": [
    "ords_prods_merged.head(5)"
   ]
  },
  {
   "cell_type": "markdown",
   "id": "d1304a20",
   "metadata": {},
   "source": [
    "# 3. '4.7' exercise"
   ]
  },
  {
   "cell_type": "code",
   "execution_count": 8,
   "id": "55151c94",
   "metadata": {},
   "outputs": [
    {
     "ename": "NameError",
     "evalue": "name 'order_products_merged' is not defined",
     "output_type": "error",
     "traceback": [
      "\u001b[0;31m---------------------------------------------------------------------------\u001b[0m",
      "\u001b[0;31mNameError\u001b[0m                                 Traceback (most recent call last)",
      "Input \u001b[0;32mIn [8]\u001b[0m, in \u001b[0;36m<cell line: 1>\u001b[0;34m()\u001b[0m\n\u001b[0;32m----> 1\u001b[0m df \u001b[38;5;241m=\u001b[39m \u001b[43morder_products_merged\u001b[49m[:\u001b[38;5;241m1000000\u001b[39m]\n",
      "\u001b[0;31mNameError\u001b[0m: name 'order_products_merged' is not defined"
     ]
    }
   ],
   "source": [
    "df = order_products_merged[:1000000]"
   ]
  },
  {
   "cell_type": "code",
   "execution_count": null,
   "id": "a3962ac9",
   "metadata": {},
   "outputs": [],
   "source": [
    "df.tail()"
   ]
  },
  {
   "cell_type": "code",
   "execution_count": null,
   "id": "1896c8a6",
   "metadata": {},
   "outputs": [],
   "source": [
    "def price_label(row):\n",
    "\n",
    "  if row['prices'] <= 5:\n",
    "    return 'Low-range product'\n",
    "  elif (row['prices'] > 5) and (row['prices'] <= 15):\n",
    "    return 'Mid-range product'\n",
    "  elif row['prices'] > 15:\n",
    "    return 'High range'\n",
    "  else: return 'Not enough data'"
   ]
  },
  {
   "cell_type": "code",
   "execution_count": null,
   "id": "b908c6a9",
   "metadata": {},
   "outputs": [],
   "source": [
    "df.head()"
   ]
  },
  {
   "cell_type": "code",
   "execution_count": null,
   "id": "715324ef",
   "metadata": {},
   "outputs": [],
   "source": [
    "df['price_range'] = df.apply(price_label, axis=1)"
   ]
  },
  {
   "cell_type": "code",
   "execution_count": null,
   "id": "c9b07fbf",
   "metadata": {},
   "outputs": [],
   "source": [
    "df['price_range'].value_counts()"
   ]
  },
  {
   "cell_type": "code",
   "execution_count": null,
   "id": "d62d0cf7",
   "metadata": {},
   "outputs": [],
   "source": [
    "df['prices'].max()"
   ]
  },
  {
   "cell_type": "code",
   "execution_count": null,
   "id": "70c6e3a0",
   "metadata": {},
   "outputs": [],
   "source": [
    "df.loc[df['prices'] > 15, 'price_range_loc'] = 'High-range product'"
   ]
  },
  {
   "cell_type": "code",
   "execution_count": null,
   "id": "c882ff59",
   "metadata": {},
   "outputs": [],
   "source": [
    "df.loc[(df['prices'] <= 15) & (df['prices'] > 5), 'price_range_loc'] = 'Mid-range product' "
   ]
  },
  {
   "cell_type": "code",
   "execution_count": null,
   "id": "73452922",
   "metadata": {},
   "outputs": [],
   "source": [
    "df.loc[df['prices'] <= 5, 'price_range_loc'] = 'Low-range product'"
   ]
  },
  {
   "cell_type": "code",
   "execution_count": null,
   "id": "07fbbf4c",
   "metadata": {},
   "outputs": [],
   "source": [
    "df['price_range_loc'].value_counts()"
   ]
  },
  {
   "cell_type": "code",
   "execution_count": null,
   "id": "2c29c62e",
   "metadata": {},
   "outputs": [],
   "source": [
    "ords_prods_merged.loc[ords_prods_merged['prices'] > 15, 'price_range_loc'] = 'High-range product'"
   ]
  },
  {
   "cell_type": "code",
   "execution_count": null,
   "id": "aa2c55c0",
   "metadata": {},
   "outputs": [],
   "source": [
    "ords_prods_merged.loc[(ords_prods_merged['prices'] <= 15) & (df['prices'] > 5), 'price_range_loc'] = 'Mid-range product' "
   ]
  },
  {
   "cell_type": "code",
   "execution_count": null,
   "id": "7752a86b",
   "metadata": {},
   "outputs": [],
   "source": [
    "ords_prods_merged.loc[ords_prods_merged['prices'] <= 5, 'price_range_loc'] = 'Low-range product'"
   ]
  },
  {
   "cell_type": "code",
   "execution_count": null,
   "id": "d9da6bfc",
   "metadata": {},
   "outputs": [],
   "source": [
    "ords_prods_merged['price_range_loc'].value_counts()"
   ]
  },
  {
   "cell_type": "code",
   "execution_count": null,
   "id": "2d2488b3",
   "metadata": {},
   "outputs": [],
   "source": [
    "ords_prods_merged['order_dow'].value_counts(dropna = False)"
   ]
  },
  {
   "cell_type": "code",
   "execution_count": null,
   "id": "d85faa47",
   "metadata": {},
   "outputs": [],
   "source": [
    "result = []\n",
    "\n",
    "for value in ords_prods_merged[\"order_dow\"]:\n",
    "  if value == 0:\n",
    "    result.append(\"Busiest day\")\n",
    "  elif value == 4:\n",
    "    result.append(\"Least busy\")\n",
    "  else:\n",
    "    result.append(\"Regularly busy\")"
   ]
  },
  {
   "cell_type": "code",
   "execution_count": null,
   "id": "e4c76b4f",
   "metadata": {},
   "outputs": [],
   "source": [
    "ords_prods_merged.head()"
   ]
  },
  {
   "cell_type": "code",
   "execution_count": null,
   "id": "8126ca95",
   "metadata": {},
   "outputs": [],
   "source": [
    "result"
   ]
  },
  {
   "cell_type": "code",
   "execution_count": null,
   "id": "5b0de13f",
   "metadata": {},
   "outputs": [],
   "source": [
    "ords_prods_merged['busiest_day'] = result"
   ]
  },
  {
   "cell_type": "code",
   "execution_count": null,
   "id": "a422a758",
   "metadata": {},
   "outputs": [],
   "source": [
    "ords_prods_merged['busiest_day'].value_counts(dropna = False)"
   ]
  },
  {
   "cell_type": "markdown",
   "id": "56a0390a",
   "metadata": {},
   "source": [
    "# Task"
   ]
  },
  {
   "cell_type": "markdown",
   "id": "046d4a34",
   "metadata": {},
   "source": [
    "#Step 1 -> Done above"
   ]
  },
  {
   "cell_type": "code",
   "execution_count": null,
   "id": "63afa9bc",
   "metadata": {},
   "outputs": [],
   "source": [
    "#2 Suppose your clients have changed their minds about the labels you created in your “busiest_day” column. \n",
    "#Now, they want “Busiest day” to become “Busiest days” (plural). \n",
    "#This label should correspond with the two busiest days of the week as opposed to the single busiest day. \n",
    "#At the same time, they’d also like to know the two slowest days. \n",
    "#Create a new column for this using a suitable method.\n"
   ]
  },
  {
   "cell_type": "code",
   "execution_count": null,
   "id": "d68b208a",
   "metadata": {},
   "outputs": [],
   "source": [
    "#Check frequency\n",
    "ords_prods_merged['order_dow'].value_counts(dropna = False)"
   ]
  },
  {
   "cell_type": "code",
   "execution_count": null,
   "id": "6a8df726",
   "metadata": {},
   "outputs": [],
   "source": [
    "#Create if-statement for loops with step criteria\n",
    "result = []\n",
    "\n",
    "for value in ords_prods_merged[\"order_dow\"]:\n",
    "    if value == 0:\n",
    "        result.append(\"Busiest day\")\n",
    "    elif value == 1:\n",
    "        result.append(\"Busiest day\")\n",
    "    elif value == 4:\n",
    "        result.append(\"Least busy\")\n",
    "    elif value == 3:\n",
    "        result.append(\"Least busy\")\n",
    "    else:\n",
    "        result.append(\"Regularly busy\")"
   ]
  },
  {
   "cell_type": "code",
   "execution_count": null,
   "id": "8400a0a5",
   "metadata": {},
   "outputs": [],
   "source": [
    "#check outcome\n",
    "result"
   ]
  },
  {
   "cell_type": "code",
   "execution_count": null,
   "id": "abeedf4d",
   "metadata": {},
   "outputs": [],
   "source": [
    "#Create column  'busiest_days'\n",
    "ords_prods_merged['busiest_days'] = result"
   ]
  },
  {
   "cell_type": "code",
   "execution_count": null,
   "id": "e06a3288",
   "metadata": {},
   "outputs": [],
   "source": [
    "#3. Check the values of this new column for accuracy. Note any observations in markdown format.\n",
    "ords_prods_merged['busiest_days'].value_counts(dropna = False)"
   ]
  },
  {
   "cell_type": "code",
   "execution_count": null,
   "id": "14e0bf27",
   "metadata": {},
   "outputs": [],
   "source": [
    "#Comment:\n",
    "# A. Counts changed, when using 2 days for busiest and least_busy days. Nothing in particular to note."
   ]
  },
  {
   "cell_type": "code",
   "execution_count": null,
   "id": "d879e141",
   "metadata": {},
   "outputs": [],
   "source": [
    "#4. When too many users make Instacart orders at the same time, the app freezes. \n",
    "#The senior technical officer at Instacart wants you to identify the busiest hours of the day. \n",
    "#Rather than by hour, they want periods of time labeled “Most orders,” “Average orders,” and “Fewest orders.” \n",
    "#Create a new column containing these labels called “busiest_period_of_day.”\n"
   ]
  },
  {
   "cell_type": "code",
   "execution_count": null,
   "id": "20e4622c",
   "metadata": {},
   "outputs": [],
   "source": [
    "#Print headers\n",
    "ords_prods_merged.head()"
   ]
  },
  {
   "cell_type": "code",
   "execution_count": null,
   "id": "c9cd5818",
   "metadata": {},
   "outputs": [],
   "source": [
    "#Calculating frequency\n",
    "ords_prods_merged['order_hour_of_day'].value_counts(dropna = False)"
   ]
  },
  {
   "cell_type": "code",
   "execution_count": null,
   "id": "d9f82162",
   "metadata": {},
   "outputs": [],
   "source": [
    "#comment:\n",
    "#A. Most orders: 10,11,14,15,13,12,16 (count 7)\n",
    "#B. Fewest orders: 6,0,1,5,2,4,3 (count 10)\n",
    "#C. Average orders: 9,17,8,18,19,20,7,21,22,23 (count7)"
   ]
  },
  {
   "cell_type": "code",
   "execution_count": null,
   "id": "87df2ee1",
   "metadata": {},
   "outputs": [],
   "source": [
    "#Create if-statement for loops with step criteria\n",
    "result = []\n",
    "\n",
    "for value in ords_prods_merged[\"order_hour_of_day\"]:\n",
    "    if value in (10,11,14,15,13,12,16):\n",
    "        result.append(\"Most orders\")\n",
    "    elif value in (6,0,1,5,2,4,3):\n",
    "        result.append(\"Fewer orders\")\n",
    "    elif value in (9,17,8,18,19,20,7,21,22,23):\n",
    "        result.append(\"Average orders\")\n",
    "    else:\n",
    "        result.append(\"Not enough data\")"
   ]
  },
  {
   "cell_type": "code",
   "execution_count": null,
   "id": "d61a3999",
   "metadata": {},
   "outputs": [],
   "source": [
    "result"
   ]
  },
  {
   "cell_type": "code",
   "execution_count": null,
   "id": "29bbc095",
   "metadata": {},
   "outputs": [],
   "source": [
    "#Create new column\n",
    "ords_prods_merged['busy_hour'] = result"
   ]
  },
  {
   "cell_type": "code",
   "execution_count": null,
   "id": "d8808b97",
   "metadata": {},
   "outputs": [],
   "source": [
    "#check frequency\n",
    "ords_prods_merged['busy_hour'].value_counts()"
   ]
  },
  {
   "cell_type": "code",
   "execution_count": null,
   "id": "12a3df19",
   "metadata": {},
   "outputs": [],
   "source": [
    "#export\n",
    "ords_prods_merged.to_pickle(os.path.join(path, '02 Data','Prepared Data', '20220517_ords_prods_merged.pkl'))"
   ]
  },
  {
   "cell_type": "code",
   "execution_count": 9,
   "id": "a8834b48",
   "metadata": {},
   "outputs": [
    {
     "data": {
      "text/html": [
       "<div>\n",
       "<style scoped>\n",
       "    .dataframe tbody tr th:only-of-type {\n",
       "        vertical-align: middle;\n",
       "    }\n",
       "\n",
       "    .dataframe tbody tr th {\n",
       "        vertical-align: top;\n",
       "    }\n",
       "\n",
       "    .dataframe thead th {\n",
       "        text-align: right;\n",
       "    }\n",
       "</style>\n",
       "<table border=\"1\" class=\"dataframe\">\n",
       "  <thead>\n",
       "    <tr style=\"text-align: right;\">\n",
       "      <th></th>\n",
       "      <th>Unnamed: 0</th>\n",
       "      <th>Unnamed: 0_x</th>\n",
       "      <th>order_id</th>\n",
       "      <th>user_id</th>\n",
       "      <th>eval_set</th>\n",
       "      <th>order_number</th>\n",
       "      <th>order_dow</th>\n",
       "      <th>order_hour_of_day</th>\n",
       "      <th>days_since_prior_order</th>\n",
       "      <th>product_id</th>\n",
       "      <th>add_to_cart_order</th>\n",
       "      <th>reordered</th>\n",
       "      <th>_merge</th>\n",
       "      <th>Unnamed: 0_y</th>\n",
       "      <th>product_name</th>\n",
       "      <th>aisle_id</th>\n",
       "      <th>department_id</th>\n",
       "      <th>prices</th>\n",
       "    </tr>\n",
       "  </thead>\n",
       "  <tbody>\n",
       "    <tr>\n",
       "      <th>0</th>\n",
       "      <td>0</td>\n",
       "      <td>0</td>\n",
       "      <td>2539329</td>\n",
       "      <td>1</td>\n",
       "      <td>prior</td>\n",
       "      <td>1</td>\n",
       "      <td>2</td>\n",
       "      <td>8</td>\n",
       "      <td>NaN</td>\n",
       "      <td>196</td>\n",
       "      <td>1</td>\n",
       "      <td>0</td>\n",
       "      <td>both</td>\n",
       "      <td>195</td>\n",
       "      <td>Soda</td>\n",
       "      <td>77</td>\n",
       "      <td>7</td>\n",
       "      <td>9.0</td>\n",
       "    </tr>\n",
       "    <tr>\n",
       "      <th>1</th>\n",
       "      <td>1</td>\n",
       "      <td>1</td>\n",
       "      <td>2398795</td>\n",
       "      <td>1</td>\n",
       "      <td>prior</td>\n",
       "      <td>2</td>\n",
       "      <td>3</td>\n",
       "      <td>7</td>\n",
       "      <td>15.0</td>\n",
       "      <td>196</td>\n",
       "      <td>1</td>\n",
       "      <td>1</td>\n",
       "      <td>both</td>\n",
       "      <td>195</td>\n",
       "      <td>Soda</td>\n",
       "      <td>77</td>\n",
       "      <td>7</td>\n",
       "      <td>9.0</td>\n",
       "    </tr>\n",
       "    <tr>\n",
       "      <th>2</th>\n",
       "      <td>2</td>\n",
       "      <td>2</td>\n",
       "      <td>473747</td>\n",
       "      <td>1</td>\n",
       "      <td>prior</td>\n",
       "      <td>3</td>\n",
       "      <td>3</td>\n",
       "      <td>12</td>\n",
       "      <td>21.0</td>\n",
       "      <td>196</td>\n",
       "      <td>1</td>\n",
       "      <td>1</td>\n",
       "      <td>both</td>\n",
       "      <td>195</td>\n",
       "      <td>Soda</td>\n",
       "      <td>77</td>\n",
       "      <td>7</td>\n",
       "      <td>9.0</td>\n",
       "    </tr>\n",
       "    <tr>\n",
       "      <th>3</th>\n",
       "      <td>3</td>\n",
       "      <td>3</td>\n",
       "      <td>2254736</td>\n",
       "      <td>1</td>\n",
       "      <td>prior</td>\n",
       "      <td>4</td>\n",
       "      <td>4</td>\n",
       "      <td>7</td>\n",
       "      <td>29.0</td>\n",
       "      <td>196</td>\n",
       "      <td>1</td>\n",
       "      <td>1</td>\n",
       "      <td>both</td>\n",
       "      <td>195</td>\n",
       "      <td>Soda</td>\n",
       "      <td>77</td>\n",
       "      <td>7</td>\n",
       "      <td>9.0</td>\n",
       "    </tr>\n",
       "    <tr>\n",
       "      <th>4</th>\n",
       "      <td>4</td>\n",
       "      <td>4</td>\n",
       "      <td>431534</td>\n",
       "      <td>1</td>\n",
       "      <td>prior</td>\n",
       "      <td>5</td>\n",
       "      <td>4</td>\n",
       "      <td>15</td>\n",
       "      <td>28.0</td>\n",
       "      <td>196</td>\n",
       "      <td>1</td>\n",
       "      <td>1</td>\n",
       "      <td>both</td>\n",
       "      <td>195</td>\n",
       "      <td>Soda</td>\n",
       "      <td>77</td>\n",
       "      <td>7</td>\n",
       "      <td>9.0</td>\n",
       "    </tr>\n",
       "    <tr>\n",
       "      <th>5</th>\n",
       "      <td>5</td>\n",
       "      <td>5</td>\n",
       "      <td>3367565</td>\n",
       "      <td>1</td>\n",
       "      <td>prior</td>\n",
       "      <td>6</td>\n",
       "      <td>2</td>\n",
       "      <td>7</td>\n",
       "      <td>19.0</td>\n",
       "      <td>196</td>\n",
       "      <td>1</td>\n",
       "      <td>1</td>\n",
       "      <td>both</td>\n",
       "      <td>195</td>\n",
       "      <td>Soda</td>\n",
       "      <td>77</td>\n",
       "      <td>7</td>\n",
       "      <td>9.0</td>\n",
       "    </tr>\n",
       "    <tr>\n",
       "      <th>6</th>\n",
       "      <td>6</td>\n",
       "      <td>6</td>\n",
       "      <td>550135</td>\n",
       "      <td>1</td>\n",
       "      <td>prior</td>\n",
       "      <td>7</td>\n",
       "      <td>1</td>\n",
       "      <td>9</td>\n",
       "      <td>20.0</td>\n",
       "      <td>196</td>\n",
       "      <td>1</td>\n",
       "      <td>1</td>\n",
       "      <td>both</td>\n",
       "      <td>195</td>\n",
       "      <td>Soda</td>\n",
       "      <td>77</td>\n",
       "      <td>7</td>\n",
       "      <td>9.0</td>\n",
       "    </tr>\n",
       "    <tr>\n",
       "      <th>7</th>\n",
       "      <td>7</td>\n",
       "      <td>7</td>\n",
       "      <td>3108588</td>\n",
       "      <td>1</td>\n",
       "      <td>prior</td>\n",
       "      <td>8</td>\n",
       "      <td>1</td>\n",
       "      <td>14</td>\n",
       "      <td>14.0</td>\n",
       "      <td>196</td>\n",
       "      <td>2</td>\n",
       "      <td>1</td>\n",
       "      <td>both</td>\n",
       "      <td>195</td>\n",
       "      <td>Soda</td>\n",
       "      <td>77</td>\n",
       "      <td>7</td>\n",
       "      <td>9.0</td>\n",
       "    </tr>\n",
       "    <tr>\n",
       "      <th>8</th>\n",
       "      <td>8</td>\n",
       "      <td>8</td>\n",
       "      <td>2295261</td>\n",
       "      <td>1</td>\n",
       "      <td>prior</td>\n",
       "      <td>9</td>\n",
       "      <td>1</td>\n",
       "      <td>16</td>\n",
       "      <td>0.0</td>\n",
       "      <td>196</td>\n",
       "      <td>4</td>\n",
       "      <td>1</td>\n",
       "      <td>both</td>\n",
       "      <td>195</td>\n",
       "      <td>Soda</td>\n",
       "      <td>77</td>\n",
       "      <td>7</td>\n",
       "      <td>9.0</td>\n",
       "    </tr>\n",
       "    <tr>\n",
       "      <th>9</th>\n",
       "      <td>9</td>\n",
       "      <td>9</td>\n",
       "      <td>2550362</td>\n",
       "      <td>1</td>\n",
       "      <td>prior</td>\n",
       "      <td>10</td>\n",
       "      <td>4</td>\n",
       "      <td>8</td>\n",
       "      <td>30.0</td>\n",
       "      <td>196</td>\n",
       "      <td>1</td>\n",
       "      <td>1</td>\n",
       "      <td>both</td>\n",
       "      <td>195</td>\n",
       "      <td>Soda</td>\n",
       "      <td>77</td>\n",
       "      <td>7</td>\n",
       "      <td>9.0</td>\n",
       "    </tr>\n",
       "  </tbody>\n",
       "</table>\n",
       "</div>"
      ],
      "text/plain": [
       "   Unnamed: 0  Unnamed: 0_x  order_id  user_id eval_set  order_number  \\\n",
       "0           0             0   2539329        1    prior             1   \n",
       "1           1             1   2398795        1    prior             2   \n",
       "2           2             2    473747        1    prior             3   \n",
       "3           3             3   2254736        1    prior             4   \n",
       "4           4             4    431534        1    prior             5   \n",
       "5           5             5   3367565        1    prior             6   \n",
       "6           6             6    550135        1    prior             7   \n",
       "7           7             7   3108588        1    prior             8   \n",
       "8           8             8   2295261        1    prior             9   \n",
       "9           9             9   2550362        1    prior            10   \n",
       "\n",
       "   order_dow  order_hour_of_day  days_since_prior_order  product_id  \\\n",
       "0          2                  8                     NaN         196   \n",
       "1          3                  7                    15.0         196   \n",
       "2          3                 12                    21.0         196   \n",
       "3          4                  7                    29.0         196   \n",
       "4          4                 15                    28.0         196   \n",
       "5          2                  7                    19.0         196   \n",
       "6          1                  9                    20.0         196   \n",
       "7          1                 14                    14.0         196   \n",
       "8          1                 16                     0.0         196   \n",
       "9          4                  8                    30.0         196   \n",
       "\n",
       "   add_to_cart_order  reordered _merge  Unnamed: 0_y product_name  aisle_id  \\\n",
       "0                  1          0   both           195         Soda        77   \n",
       "1                  1          1   both           195         Soda        77   \n",
       "2                  1          1   both           195         Soda        77   \n",
       "3                  1          1   both           195         Soda        77   \n",
       "4                  1          1   both           195         Soda        77   \n",
       "5                  1          1   both           195         Soda        77   \n",
       "6                  1          1   both           195         Soda        77   \n",
       "7                  2          1   both           195         Soda        77   \n",
       "8                  4          1   both           195         Soda        77   \n",
       "9                  1          1   both           195         Soda        77   \n",
       "\n",
       "   department_id  prices  \n",
       "0              7     9.0  \n",
       "1              7     9.0  \n",
       "2              7     9.0  \n",
       "3              7     9.0  \n",
       "4              7     9.0  \n",
       "5              7     9.0  \n",
       "6              7     9.0  \n",
       "7              7     9.0  \n",
       "8              7     9.0  \n",
       "9              7     9.0  "
      ]
     },
     "execution_count": 9,
     "metadata": {},
     "output_type": "execute_result"
    }
   ],
   "source": [
    "ords_prods_merged.head(10)"
   ]
  },
  {
   "cell_type": "code",
   "execution_count": 3,
   "id": "db93a272",
   "metadata": {},
   "outputs": [],
   "source": [
    "pd.set_option('display.max_columns', None)"
   ]
  },
  {
   "cell_type": "code",
   "execution_count": null,
   "id": "95754939",
   "metadata": {},
   "outputs": [],
   "source": []
  }
 ],
 "metadata": {
  "kernelspec": {
   "display_name": "Python 3 (ipykernel)",
   "language": "python",
   "name": "python3"
  },
  "language_info": {
   "codemirror_mode": {
    "name": "ipython",
    "version": 3
   },
   "file_extension": ".py",
   "mimetype": "text/x-python",
   "name": "python",
   "nbconvert_exporter": "python",
   "pygments_lexer": "ipython3",
   "version": "3.9.12"
  }
 },
 "nbformat": 4,
 "nbformat_minor": 5
}
