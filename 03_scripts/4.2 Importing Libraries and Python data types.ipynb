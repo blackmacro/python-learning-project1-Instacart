{
 "cells": [
  {
   "cell_type": "markdown",
   "id": "64c34340",
   "metadata": {},
   "source": [
    "# 01 Importing Libraries"
   ]
  },
  {
   "cell_type": "code",
   "execution_count": 5,
   "id": "52557ff0",
   "metadata": {},
   "outputs": [],
   "source": [
    "# Import libraries\n",
    "import pandas as pd\n",
    "import numpy as np\n",
    "import os"
   ]
  },
  {
   "cell_type": "markdown",
   "id": "ff7ced03",
   "metadata": {},
   "source": [
    "# 02 Python Data Types"
   ]
  },
  {
   "cell_type": "code",
   "execution_count": 61,
   "id": "9f31953b",
   "metadata": {},
   "outputs": [],
   "source": [
    "# Step 7. Code 3 different ways of reaching a result of 100 by adding or subtracting numeric variables"
   ]
  },
  {
   "cell_type": "code",
   "execution_count": 82,
   "id": "e070f8d8",
   "metadata": {},
   "outputs": [],
   "source": [
    "# Variables\n",
    "a = 110\n",
    "b = 10\n",
    "c = 90"
   ]
  },
  {
   "cell_type": "code",
   "execution_count": 83,
   "id": "8e9d86fe",
   "metadata": {},
   "outputs": [
    {
     "name": "stdout",
     "output_type": "stream",
     "text": [
      "100\n",
      "100\n",
      "100.0\n"
     ]
    }
   ],
   "source": [
    "# Operations\n",
    "print(b+c)\n",
    "print(a-b)\n",
    "print((a+c)/(b/b+b/b))"
   ]
  },
  {
   "cell_type": "code",
   "execution_count": null,
   "id": "68fb862e",
   "metadata": {},
   "outputs": [],
   "source": [
    "# Code 2 floating-point variables and divide them by each other."
   ]
  },
  {
   "cell_type": "code",
   "execution_count": 90,
   "id": "5adf7d19",
   "metadata": {},
   "outputs": [],
   "source": [
    "# Variables\n",
    "a = 22.001\n",
    "b = 7.00001"
   ]
  },
  {
   "cell_type": "code",
   "execution_count": 91,
   "id": "67b7d508",
   "metadata": {},
   "outputs": [
    {
     "name": "stdout",
     "output_type": "stream",
     "text": [
      "3.1429955100064144\n"
     ]
    }
   ],
   "source": [
    "# Operations\n",
    "print (a/b)"
   ]
  },
  {
   "cell_type": "code",
   "execution_count": null,
   "id": "74b07696",
   "metadata": {},
   "outputs": [],
   "source": [
    "# Step 9. Construct a short word made of separate strings (you’ll need to concatenate some strings!)."
   ]
  },
  {
   "cell_type": "code",
   "execution_count": 88,
   "id": "4ff04e74",
   "metadata": {},
   "outputs": [],
   "source": [
    "#Variables\n",
    "a = 'head'\n",
    "b = 'shot'"
   ]
  },
  {
   "cell_type": "code",
   "execution_count": 89,
   "id": "a2deff53",
   "metadata": {},
   "outputs": [
    {
     "data": {
      "text/plain": [
       "'headshot'"
      ]
     },
     "execution_count": 89,
     "metadata": {},
     "output_type": "execute_result"
    }
   ],
   "source": [
    "#Operations\n",
    "a+b"
   ]
  },
  {
   "cell_type": "code",
   "execution_count": null,
   "id": "0321267b",
   "metadata": {},
   "outputs": [],
   "source": [
    "#Step 10. Construct 2 short sentences made of separate strings."
   ]
  },
  {
   "cell_type": "code",
   "execution_count": 96,
   "id": "af171a51",
   "metadata": {},
   "outputs": [],
   "source": [
    "#Variables\n",
    "a = 'I '\n",
    "b = 'am '\n",
    "c = 'Arturas'\n",
    "d = '. '\n",
    "e = 'I '\n",
    "f = 'like '\n",
    "g = 'data'\n",
    "h = '.'"
   ]
  },
  {
   "cell_type": "code",
   "execution_count": 97,
   "id": "91295f8a",
   "metadata": {},
   "outputs": [
    {
     "name": "stdout",
     "output_type": "stream",
     "text": [
      "I am Arturas. I like data.\n"
     ]
    }
   ],
   "source": [
    "print (a+b+c+d+e+f+g+h)"
   ]
  },
  {
   "cell_type": "code",
   "execution_count": null,
   "id": "df86529b",
   "metadata": {},
   "outputs": [],
   "source": [
    "#BONUS Task"
   ]
  },
  {
   "cell_type": "code",
   "execution_count": 102,
   "id": "c1348910",
   "metadata": {},
   "outputs": [],
   "source": [
    "a = 'Mohamed :-) '"
   ]
  },
  {
   "cell_type": "code",
   "execution_count": 103,
   "id": "4e1406b3",
   "metadata": {},
   "outputs": [
    {
     "name": "stdout",
     "output_type": "stream",
     "text": [
      "Mohamed :-) Mohamed :-) Mohamed :-) Mohamed :-) Mohamed :-) Mohamed :-) Mohamed :-) Mohamed :-) Mohamed :-) Mohamed :-) Mohamed :-) Mohamed :-) Mohamed :-) Mohamed :-) Mohamed :-) Mohamed :-) Mohamed :-) Mohamed :-) Mohamed :-) Mohamed :-) Mohamed :-) Mohamed :-) Mohamed :-) Mohamed :-) Mohamed :-) Mohamed :-) Mohamed :-) Mohamed :-) Mohamed :-) Mohamed :-) Mohamed :-) Mohamed :-) Mohamed :-) Mohamed :-) Mohamed :-) Mohamed :-) Mohamed :-) Mohamed :-) Mohamed :-) Mohamed :-) Mohamed :-) Mohamed :-) Mohamed :-) Mohamed :-) Mohamed :-) Mohamed :-) Mohamed :-) Mohamed :-) Mohamed :-) Mohamed :-) Mohamed :-) Mohamed :-) Mohamed :-) Mohamed :-) Mohamed :-) Mohamed :-) Mohamed :-) Mohamed :-) Mohamed :-) Mohamed :-) Mohamed :-) Mohamed :-) Mohamed :-) Mohamed :-) Mohamed :-) Mohamed :-) Mohamed :-) Mohamed :-) Mohamed :-) Mohamed :-) Mohamed :-) Mohamed :-) Mohamed :-) Mohamed :-) Mohamed :-) Mohamed :-) Mohamed :-) Mohamed :-) Mohamed :-) Mohamed :-) Mohamed :-) Mohamed :-) Mohamed :-) Mohamed :-) Mohamed :-) Mohamed :-) Mohamed :-) Mohamed :-) Mohamed :-) Mohamed :-) Mohamed :-) Mohamed :-) Mohamed :-) Mohamed :-) Mohamed :-) Mohamed :-) Mohamed :-) Mohamed :-) Mohamed :-) Mohamed :-) \n"
     ]
    }
   ],
   "source": [
    "print(a*100)"
   ]
  }
 ],
 "metadata": {
  "kernelspec": {
   "display_name": "Python 3 (ipykernel)",
   "language": "python",
   "name": "python3"
  },
  "language_info": {
   "codemirror_mode": {
    "name": "ipython",
    "version": 3
   },
   "file_extension": ".py",
   "mimetype": "text/x-python",
   "name": "python",
   "nbconvert_exporter": "python",
   "pygments_lexer": "ipython3",
   "version": "3.9.12"
  }
 },
 "nbformat": 4,
 "nbformat_minor": 5
}
