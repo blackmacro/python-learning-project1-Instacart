{
 "cells": [
  {
   "cell_type": "markdown",
   "id": "68032d82",
   "metadata": {},
   "source": [
    "# Content List\n",
    "## Step 1-3 Importing libraries and data"
   ]
  },
  {
   "cell_type": "markdown",
   "id": "50bdc51d",
   "metadata": {},
   "source": [
    "## Step 1-3  Importing libraries and data + setting path\n",
    "## Step 4. Wrangle data so it fits business logic\n",
    "## Step 5. Check Data consistency\n",
    "## Step 6. Combine customer data with prepared data\n",
    "## Step 7. Check comments and code layout (done)\n",
    "## Step 8. Export as pickle\n",
    "================================================================================\n"
   ]
  },
  {
   "cell_type": "markdown",
   "id": "e143fecc",
   "metadata": {},
   "source": [
    "## Step 1-3. Import libraries and data"
   ]
  },
  {
   "cell_type": "code",
   "execution_count": 36,
   "id": "64e1a71d",
   "metadata": {},
   "outputs": [],
   "source": [
    "#import libraries\n",
    "import pandas as pd\n",
    "import numpy as np\n",
    "import os"
   ]
  },
  {
   "cell_type": "code",
   "execution_count": 37,
   "id": "21439d4c",
   "metadata": {},
   "outputs": [],
   "source": [
    "#Define path\n",
    "path = r'/Users/arturassada/Desktop/Instacart Basket Analysis'"
   ]
  },
  {
   "cell_type": "code",
   "execution_count": 38,
   "id": "71f4f36c",
   "metadata": {},
   "outputs": [],
   "source": [
    "# import new file customer2.csv\n",
    "df = pd.read_csv(os.path.join(path, '02 Data', 'Original data', 'customers 2.csv'))"
   ]
  },
  {
   "cell_type": "markdown",
   "id": "dcaa6a73",
   "metadata": {},
   "source": [
    "## Step4. Wrangling data."
   ]
  },
  {
   "cell_type": "code",
   "execution_count": 39,
   "id": "302769ce",
   "metadata": {},
   "outputs": [],
   "source": [
    "#Step4: Wrangle the data so that it follows consistent logic; for example,\n",
    "#rename columns with illogical names and drop columns that don’t add anything to your analysis."
   ]
  },
  {
   "cell_type": "code",
   "execution_count": 40,
   "id": "4a8ea5ff",
   "metadata": {},
   "outputs": [],
   "source": [
    "#4.1 Data exploration"
   ]
  },
  {
   "cell_type": "code",
   "execution_count": 41,
   "id": "414af798",
   "metadata": {},
   "outputs": [
    {
     "data": {
      "text/html": [
       "<div>\n",
       "<style scoped>\n",
       "    .dataframe tbody tr th:only-of-type {\n",
       "        vertical-align: middle;\n",
       "    }\n",
       "\n",
       "    .dataframe tbody tr th {\n",
       "        vertical-align: top;\n",
       "    }\n",
       "\n",
       "    .dataframe thead th {\n",
       "        text-align: right;\n",
       "    }\n",
       "</style>\n",
       "<table border=\"1\" class=\"dataframe\">\n",
       "  <thead>\n",
       "    <tr style=\"text-align: right;\">\n",
       "      <th></th>\n",
       "      <th>user_id</th>\n",
       "      <th>First Name</th>\n",
       "      <th>Surnam</th>\n",
       "      <th>Gender</th>\n",
       "      <th>STATE</th>\n",
       "      <th>Age</th>\n",
       "      <th>date_joined</th>\n",
       "      <th>n_dependants</th>\n",
       "      <th>fam_status</th>\n",
       "      <th>income</th>\n",
       "    </tr>\n",
       "  </thead>\n",
       "  <tbody>\n",
       "    <tr>\n",
       "      <th>0</th>\n",
       "      <td>26711</td>\n",
       "      <td>Deborah</td>\n",
       "      <td>Esquivel</td>\n",
       "      <td>Female</td>\n",
       "      <td>Missouri</td>\n",
       "      <td>48</td>\n",
       "      <td>1/1/2017</td>\n",
       "      <td>3</td>\n",
       "      <td>married</td>\n",
       "      <td>165665</td>\n",
       "    </tr>\n",
       "    <tr>\n",
       "      <th>1</th>\n",
       "      <td>33890</td>\n",
       "      <td>Patricia</td>\n",
       "      <td>Hart</td>\n",
       "      <td>Female</td>\n",
       "      <td>New Mexico</td>\n",
       "      <td>36</td>\n",
       "      <td>1/1/2017</td>\n",
       "      <td>0</td>\n",
       "      <td>single</td>\n",
       "      <td>59285</td>\n",
       "    </tr>\n",
       "    <tr>\n",
       "      <th>2</th>\n",
       "      <td>65803</td>\n",
       "      <td>Kenneth</td>\n",
       "      <td>Farley</td>\n",
       "      <td>Male</td>\n",
       "      <td>Idaho</td>\n",
       "      <td>35</td>\n",
       "      <td>1/1/2017</td>\n",
       "      <td>2</td>\n",
       "      <td>married</td>\n",
       "      <td>99568</td>\n",
       "    </tr>\n",
       "    <tr>\n",
       "      <th>3</th>\n",
       "      <td>125935</td>\n",
       "      <td>Michelle</td>\n",
       "      <td>Hicks</td>\n",
       "      <td>Female</td>\n",
       "      <td>Iowa</td>\n",
       "      <td>40</td>\n",
       "      <td>1/1/2017</td>\n",
       "      <td>0</td>\n",
       "      <td>single</td>\n",
       "      <td>42049</td>\n",
       "    </tr>\n",
       "    <tr>\n",
       "      <th>4</th>\n",
       "      <td>130797</td>\n",
       "      <td>Ann</td>\n",
       "      <td>Gilmore</td>\n",
       "      <td>Female</td>\n",
       "      <td>Maryland</td>\n",
       "      <td>26</td>\n",
       "      <td>1/1/2017</td>\n",
       "      <td>1</td>\n",
       "      <td>married</td>\n",
       "      <td>40374</td>\n",
       "    </tr>\n",
       "  </tbody>\n",
       "</table>\n",
       "</div>"
      ],
      "text/plain": [
       "   user_id First Name    Surnam  Gender       STATE  Age date_joined  \\\n",
       "0    26711    Deborah  Esquivel  Female    Missouri   48    1/1/2017   \n",
       "1    33890   Patricia      Hart  Female  New Mexico   36    1/1/2017   \n",
       "2    65803    Kenneth    Farley    Male       Idaho   35    1/1/2017   \n",
       "3   125935   Michelle     Hicks  Female        Iowa   40    1/1/2017   \n",
       "4   130797        Ann   Gilmore  Female    Maryland   26    1/1/2017   \n",
       "\n",
       "   n_dependants fam_status  income  \n",
       "0             3    married  165665  \n",
       "1             0     single   59285  \n",
       "2             2    married   99568  \n",
       "3             0     single   42049  \n",
       "4             1    married   40374  "
      ]
     },
     "execution_count": 41,
     "metadata": {},
     "output_type": "execute_result"
    }
   ],
   "source": [
    "df.head()"
   ]
  },
  {
   "cell_type": "code",
   "execution_count": 42,
   "id": "5b3a04bb",
   "metadata": {},
   "outputs": [
    {
     "name": "stdout",
     "output_type": "stream",
     "text": [
      "<class 'pandas.core.frame.DataFrame'>\n",
      "RangeIndex: 206209 entries, 0 to 206208\n",
      "Data columns (total 10 columns):\n",
      " #   Column        Non-Null Count   Dtype \n",
      "---  ------        --------------   ----- \n",
      " 0   user_id       206209 non-null  int64 \n",
      " 1   First Name    194950 non-null  object\n",
      " 2   Surnam        206209 non-null  object\n",
      " 3   Gender        206209 non-null  object\n",
      " 4   STATE         206209 non-null  object\n",
      " 5   Age           206209 non-null  int64 \n",
      " 6   date_joined   206209 non-null  object\n",
      " 7   n_dependants  206209 non-null  int64 \n",
      " 8   fam_status    206209 non-null  object\n",
      " 9   income        206209 non-null  int64 \n",
      "dtypes: int64(4), object(6)\n",
      "memory usage: 15.7+ MB\n"
     ]
    }
   ],
   "source": [
    "df.info()"
   ]
  },
  {
   "cell_type": "code",
   "execution_count": 43,
   "id": "d0444d69",
   "metadata": {},
   "outputs": [],
   "source": [
    "#For the purpose of this task information that is not needed is\n",
    "#A. Name And Surname (also violation of privacy)\n",
    "#B. var *STATE* and *Gender* in has capital letter, standart naming is lowercase symbols. Will change to lowercase.\n",
    "#C. Change data types"
   ]
  },
  {
   "cell_type": "code",
   "execution_count": 44,
   "id": "e1ca4013",
   "metadata": {},
   "outputs": [],
   "source": [
    "#A. Drop name and surname columns\n",
    "df_drop1 = df.drop(columns = ['First Name'])"
   ]
  },
  {
   "cell_type": "code",
   "execution_count": 45,
   "id": "555393bd",
   "metadata": {},
   "outputs": [],
   "source": [
    "df_drop2 = df_drop1.drop(columns = ['Surnam'])"
   ]
  },
  {
   "cell_type": "code",
   "execution_count": 46,
   "id": "e65fb15b",
   "metadata": {},
   "outputs": [
    {
     "data": {
      "text/html": [
       "<div>\n",
       "<style scoped>\n",
       "    .dataframe tbody tr th:only-of-type {\n",
       "        vertical-align: middle;\n",
       "    }\n",
       "\n",
       "    .dataframe tbody tr th {\n",
       "        vertical-align: top;\n",
       "    }\n",
       "\n",
       "    .dataframe thead th {\n",
       "        text-align: right;\n",
       "    }\n",
       "</style>\n",
       "<table border=\"1\" class=\"dataframe\">\n",
       "  <thead>\n",
       "    <tr style=\"text-align: right;\">\n",
       "      <th></th>\n",
       "      <th>user_id</th>\n",
       "      <th>Gender</th>\n",
       "      <th>STATE</th>\n",
       "      <th>Age</th>\n",
       "      <th>date_joined</th>\n",
       "      <th>n_dependants</th>\n",
       "      <th>fam_status</th>\n",
       "      <th>income</th>\n",
       "    </tr>\n",
       "  </thead>\n",
       "  <tbody>\n",
       "    <tr>\n",
       "      <th>0</th>\n",
       "      <td>26711</td>\n",
       "      <td>Female</td>\n",
       "      <td>Missouri</td>\n",
       "      <td>48</td>\n",
       "      <td>1/1/2017</td>\n",
       "      <td>3</td>\n",
       "      <td>married</td>\n",
       "      <td>165665</td>\n",
       "    </tr>\n",
       "    <tr>\n",
       "      <th>1</th>\n",
       "      <td>33890</td>\n",
       "      <td>Female</td>\n",
       "      <td>New Mexico</td>\n",
       "      <td>36</td>\n",
       "      <td>1/1/2017</td>\n",
       "      <td>0</td>\n",
       "      <td>single</td>\n",
       "      <td>59285</td>\n",
       "    </tr>\n",
       "    <tr>\n",
       "      <th>2</th>\n",
       "      <td>65803</td>\n",
       "      <td>Male</td>\n",
       "      <td>Idaho</td>\n",
       "      <td>35</td>\n",
       "      <td>1/1/2017</td>\n",
       "      <td>2</td>\n",
       "      <td>married</td>\n",
       "      <td>99568</td>\n",
       "    </tr>\n",
       "    <tr>\n",
       "      <th>3</th>\n",
       "      <td>125935</td>\n",
       "      <td>Female</td>\n",
       "      <td>Iowa</td>\n",
       "      <td>40</td>\n",
       "      <td>1/1/2017</td>\n",
       "      <td>0</td>\n",
       "      <td>single</td>\n",
       "      <td>42049</td>\n",
       "    </tr>\n",
       "    <tr>\n",
       "      <th>4</th>\n",
       "      <td>130797</td>\n",
       "      <td>Female</td>\n",
       "      <td>Maryland</td>\n",
       "      <td>26</td>\n",
       "      <td>1/1/2017</td>\n",
       "      <td>1</td>\n",
       "      <td>married</td>\n",
       "      <td>40374</td>\n",
       "    </tr>\n",
       "    <tr>\n",
       "      <th>...</th>\n",
       "      <td>...</td>\n",
       "      <td>...</td>\n",
       "      <td>...</td>\n",
       "      <td>...</td>\n",
       "      <td>...</td>\n",
       "      <td>...</td>\n",
       "      <td>...</td>\n",
       "      <td>...</td>\n",
       "    </tr>\n",
       "    <tr>\n",
       "      <th>206204</th>\n",
       "      <td>168073</td>\n",
       "      <td>Female</td>\n",
       "      <td>North Carolina</td>\n",
       "      <td>44</td>\n",
       "      <td>4/1/2020</td>\n",
       "      <td>1</td>\n",
       "      <td>married</td>\n",
       "      <td>148828</td>\n",
       "    </tr>\n",
       "    <tr>\n",
       "      <th>206205</th>\n",
       "      <td>49635</td>\n",
       "      <td>Male</td>\n",
       "      <td>Hawaii</td>\n",
       "      <td>62</td>\n",
       "      <td>4/1/2020</td>\n",
       "      <td>3</td>\n",
       "      <td>married</td>\n",
       "      <td>168639</td>\n",
       "    </tr>\n",
       "    <tr>\n",
       "      <th>206206</th>\n",
       "      <td>135902</td>\n",
       "      <td>Female</td>\n",
       "      <td>Missouri</td>\n",
       "      <td>66</td>\n",
       "      <td>4/1/2020</td>\n",
       "      <td>2</td>\n",
       "      <td>married</td>\n",
       "      <td>53374</td>\n",
       "    </tr>\n",
       "    <tr>\n",
       "      <th>206207</th>\n",
       "      <td>81095</td>\n",
       "      <td>Female</td>\n",
       "      <td>California</td>\n",
       "      <td>27</td>\n",
       "      <td>4/1/2020</td>\n",
       "      <td>1</td>\n",
       "      <td>married</td>\n",
       "      <td>99799</td>\n",
       "    </tr>\n",
       "    <tr>\n",
       "      <th>206208</th>\n",
       "      <td>80148</td>\n",
       "      <td>Female</td>\n",
       "      <td>New York</td>\n",
       "      <td>55</td>\n",
       "      <td>4/1/2020</td>\n",
       "      <td>1</td>\n",
       "      <td>married</td>\n",
       "      <td>57095</td>\n",
       "    </tr>\n",
       "  </tbody>\n",
       "</table>\n",
       "<p>206209 rows × 8 columns</p>\n",
       "</div>"
      ],
      "text/plain": [
       "        user_id  Gender           STATE  Age date_joined  n_dependants  \\\n",
       "0         26711  Female        Missouri   48    1/1/2017             3   \n",
       "1         33890  Female      New Mexico   36    1/1/2017             0   \n",
       "2         65803    Male           Idaho   35    1/1/2017             2   \n",
       "3        125935  Female            Iowa   40    1/1/2017             0   \n",
       "4        130797  Female        Maryland   26    1/1/2017             1   \n",
       "...         ...     ...             ...  ...         ...           ...   \n",
       "206204   168073  Female  North Carolina   44    4/1/2020             1   \n",
       "206205    49635    Male          Hawaii   62    4/1/2020             3   \n",
       "206206   135902  Female        Missouri   66    4/1/2020             2   \n",
       "206207    81095  Female      California   27    4/1/2020             1   \n",
       "206208    80148  Female        New York   55    4/1/2020             1   \n",
       "\n",
       "       fam_status  income  \n",
       "0         married  165665  \n",
       "1          single   59285  \n",
       "2         married   99568  \n",
       "3          single   42049  \n",
       "4         married   40374  \n",
       "...           ...     ...  \n",
       "206204    married  148828  \n",
       "206205    married  168639  \n",
       "206206    married   53374  \n",
       "206207    married   99799  \n",
       "206208    married   57095  \n",
       "\n",
       "[206209 rows x 8 columns]"
      ]
     },
     "execution_count": 46,
     "metadata": {},
     "output_type": "execute_result"
    }
   ],
   "source": [
    "#Check for removed columns\n",
    "df_drop2"
   ]
  },
  {
   "cell_type": "code",
   "execution_count": 47,
   "id": "b0f4ee3d",
   "metadata": {},
   "outputs": [],
   "source": [
    "#B. var *STATE* and *Gender* in has capital letter, standart naming is lowercase symbols. Will change to lowercase.\n",
    "df_drop2.rename(columns ={'STATE':'state'}, inplace = True)"
   ]
  },
  {
   "cell_type": "code",
   "execution_count": 48,
   "id": "ea0377f1",
   "metadata": {},
   "outputs": [],
   "source": [
    "df_drop2.rename(columns ={'Gender':'gender'}, inplace = True)"
   ]
  },
  {
   "cell_type": "code",
   "execution_count": 49,
   "id": "c3113318",
   "metadata": {},
   "outputs": [],
   "source": [
    "df_drop2.rename(columns ={'Age':'age'}, inplace = True)"
   ]
  },
  {
   "cell_type": "code",
   "execution_count": 50,
   "id": "b2fdd3ee",
   "metadata": {},
   "outputs": [],
   "source": [
    "#C. Change data types\n",
    "df_drop2['gender'] = df_drop2['gender'].astype('str')"
   ]
  },
  {
   "cell_type": "code",
   "execution_count": 51,
   "id": "2b78cf1e",
   "metadata": {},
   "outputs": [],
   "source": [
    "df_drop2['state'] = df_drop2['state'].astype('str')"
   ]
  },
  {
   "cell_type": "code",
   "execution_count": 52,
   "id": "591077d6",
   "metadata": {},
   "outputs": [
    {
     "name": "stdout",
     "output_type": "stream",
     "text": [
      "<class 'pandas.core.frame.DataFrame'>\n",
      "RangeIndex: 206209 entries, 0 to 206208\n",
      "Data columns (total 8 columns):\n",
      " #   Column        Non-Null Count   Dtype \n",
      "---  ------        --------------   ----- \n",
      " 0   user_id       206209 non-null  int64 \n",
      " 1   gender        206209 non-null  object\n",
      " 2   state         206209 non-null  object\n",
      " 3   age           206209 non-null  int64 \n",
      " 4   date_joined   206209 non-null  object\n",
      " 5   n_dependants  206209 non-null  int64 \n",
      " 6   fam_status    206209 non-null  object\n",
      " 7   income        206209 non-null  int64 \n",
      "dtypes: int64(4), object(4)\n",
      "memory usage: 12.6+ MB\n"
     ]
    }
   ],
   "source": [
    "#Check headers\n",
    "df_drop2.info()"
   ]
  },
  {
   "cell_type": "markdown",
   "id": "b8128364",
   "metadata": {},
   "source": [
    "## 5. Complete the fundamental data quality and consistency checks you’ve learned throughout this Achievement; for example, check for and address missing values and duplicates, and convert any mixed-type data."
   ]
  },
  {
   "cell_type": "code",
   "execution_count": 53,
   "id": "cde956c2",
   "metadata": {},
   "outputs": [],
   "source": [
    "#Check for mixed-data type:\n",
    "for col in df_drop2.columns.tolist():\n",
    "    weird = (df_drop2[[col]].applymap(type) != df_drop2[[col]].iloc[0].apply(type)).any(axis = 1)\n",
    "    if len (df_drop2[weird]) > 0:\n",
    "            print (col)"
   ]
  },
  {
   "cell_type": "code",
   "execution_count": 54,
   "id": "f8255da0",
   "metadata": {},
   "outputs": [
    {
     "data": {
      "text/plain": [
       "user_id         0\n",
       "gender          0\n",
       "state           0\n",
       "age             0\n",
       "date_joined     0\n",
       "n_dependants    0\n",
       "fam_status      0\n",
       "income          0\n",
       "dtype: int64"
      ]
     },
     "execution_count": 54,
     "metadata": {},
     "output_type": "execute_result"
    }
   ],
   "source": [
    "#Find missing values\n",
    "df_drop2.isnull().sum()"
   ]
  },
  {
   "cell_type": "code",
   "execution_count": 55,
   "id": "31183c1b",
   "metadata": {},
   "outputs": [],
   "source": [
    "#Data has no missing values"
   ]
  },
  {
   "cell_type": "code",
   "execution_count": 56,
   "id": "f34a169e",
   "metadata": {},
   "outputs": [],
   "source": [
    "#Find duplicates. Create duplicates temporary dataframe\n",
    "#check for duplicates\n",
    "df_dupl = df_drop2[df_drop2.duplicated()]"
   ]
  },
  {
   "cell_type": "code",
   "execution_count": 57,
   "id": "a4610ed6",
   "metadata": {},
   "outputs": [
    {
     "data": {
      "text/plain": [
       "(0, 8)"
      ]
     },
     "execution_count": 57,
     "metadata": {},
     "output_type": "execute_result"
    }
   ],
   "source": [
    "df_dupl.shape"
   ]
  },
  {
   "cell_type": "code",
   "execution_count": 58,
   "id": "469e06a6",
   "metadata": {},
   "outputs": [],
   "source": [
    "#no duplicates"
   ]
  },
  {
   "cell_type": "markdown",
   "id": "8b38eb28",
   "metadata": {},
   "source": [
    "## 5. Combine your customer data with the rest of your prepared Instacart data. Tip: Make sure the key columns are of the same data type! Hint: Make sure the key columns are the same data type!"
   ]
  },
  {
   "cell_type": "code",
   "execution_count": 59,
   "id": "8a52d3fd",
   "metadata": {},
   "outputs": [],
   "source": [
    "# import prepared Instacart data\n",
    "df_prep = pd.read_pickle(os.path.join(path, '02 Data', 'Prepared data', 'df_insta.pkl'))"
   ]
  },
  {
   "cell_type": "code",
   "execution_count": 60,
   "id": "57579a21",
   "metadata": {},
   "outputs": [],
   "source": [
    "#Create new dataframe for cleaned data\n",
    "df_cust2 = df_drop2"
   ]
  },
  {
   "cell_type": "code",
   "execution_count": 61,
   "id": "325c3808",
   "metadata": {},
   "outputs": [
    {
     "name": "stdout",
     "output_type": "stream",
     "text": [
      "<class 'pandas.core.frame.DataFrame'>\n",
      "RangeIndex: 32404859 entries, 0 to 32404858\n",
      "Data columns (total 27 columns):\n",
      " #   Column                  Dtype  \n",
      "---  ------                  -----  \n",
      " 0   Unnamed: 0              int64  \n",
      " 1   Unnamed: 0_x            int64  \n",
      " 2   order_id                int64  \n",
      " 3   user_id                 int64  \n",
      " 4   eval_set                object \n",
      " 5   order_number            int64  \n",
      " 6   order_dow               int64  \n",
      " 7   order_hour_of_day       int64  \n",
      " 8   days_since_prior_order  float64\n",
      " 9   product_id              int64  \n",
      " 10  add_to_cart_order       int64  \n",
      " 11  reordered               int64  \n",
      " 12  _merge                  object \n",
      " 13  Unnamed: 0_y            int64  \n",
      " 14  product_name            object \n",
      " 15  aisle_id                int64  \n",
      " 16  department_id           int64  \n",
      " 17  prices                  float64\n",
      " 18  price_range_loc         object \n",
      " 19  busiest_day             object \n",
      " 20  busiest_days            object \n",
      " 21  busy_hour               object \n",
      " 22  max_order               int64  \n",
      " 23  loyalty_flag            object \n",
      " 24  order_frequency         float64\n",
      " 25  frequency_flag          object \n",
      " 26  spender_type            object \n",
      "dtypes: float64(3), int64(14), object(10)\n",
      "memory usage: 6.5+ GB\n"
     ]
    }
   ],
   "source": [
    "#check data columns and data type\n",
    "df_prep.info()"
   ]
  },
  {
   "cell_type": "code",
   "execution_count": 62,
   "id": "94e40b21",
   "metadata": {},
   "outputs": [
    {
     "name": "stdout",
     "output_type": "stream",
     "text": [
      "<class 'pandas.core.frame.DataFrame'>\n",
      "RangeIndex: 206209 entries, 0 to 206208\n",
      "Data columns (total 8 columns):\n",
      " #   Column        Non-Null Count   Dtype \n",
      "---  ------        --------------   ----- \n",
      " 0   user_id       206209 non-null  int64 \n",
      " 1   gender        206209 non-null  object\n",
      " 2   state         206209 non-null  object\n",
      " 3   age           206209 non-null  int64 \n",
      " 4   date_joined   206209 non-null  object\n",
      " 5   n_dependants  206209 non-null  int64 \n",
      " 6   fam_status    206209 non-null  object\n",
      " 7   income        206209 non-null  int64 \n",
      "dtypes: int64(4), object(4)\n",
      "memory usage: 12.6+ MB\n"
     ]
    }
   ],
   "source": [
    "#check data columns and data type\n",
    "df_cust2.info()"
   ]
  },
  {
   "cell_type": "code",
   "execution_count": 63,
   "id": "22b56e70",
   "metadata": {},
   "outputs": [],
   "source": [
    "#Comment: foreign key is *user_id* and has same data type i.e. int64."
   ]
  },
  {
   "cell_type": "code",
   "execution_count": 64,
   "id": "6d6e5f78",
   "metadata": {},
   "outputs": [],
   "source": [
    "#Merging data using inner-join so only matched rows will be merged. "
   ]
  },
  {
   "cell_type": "code",
   "execution_count": 65,
   "id": "02457d15",
   "metadata": {},
   "outputs": [],
   "source": [
    "#Merge 2 \n",
    "df_prep = df_prep.merge(df_cust2, on = 'user_id')"
   ]
  },
  {
   "cell_type": "code",
   "execution_count": 66,
   "id": "0bb04990",
   "metadata": {},
   "outputs": [
    {
     "name": "stdout",
     "output_type": "stream",
     "text": [
      "<class 'pandas.core.frame.DataFrame'>\n",
      "Int64Index: 32404859 entries, 0 to 32404858\n",
      "Data columns (total 34 columns):\n",
      " #   Column                  Dtype  \n",
      "---  ------                  -----  \n",
      " 0   Unnamed: 0              int64  \n",
      " 1   Unnamed: 0_x            int64  \n",
      " 2   order_id                int64  \n",
      " 3   user_id                 int64  \n",
      " 4   eval_set                object \n",
      " 5   order_number            int64  \n",
      " 6   order_dow               int64  \n",
      " 7   order_hour_of_day       int64  \n",
      " 8   days_since_prior_order  float64\n",
      " 9   product_id              int64  \n",
      " 10  add_to_cart_order       int64  \n",
      " 11  reordered               int64  \n",
      " 12  _merge                  object \n",
      " 13  Unnamed: 0_y            int64  \n",
      " 14  product_name            object \n",
      " 15  aisle_id                int64  \n",
      " 16  department_id           int64  \n",
      " 17  prices                  float64\n",
      " 18  price_range_loc         object \n",
      " 19  busiest_day             object \n",
      " 20  busiest_days            object \n",
      " 21  busy_hour               object \n",
      " 22  max_order               int64  \n",
      " 23  loyalty_flag            object \n",
      " 24  order_frequency         float64\n",
      " 25  frequency_flag          object \n",
      " 26  spender_type            object \n",
      " 27  gender                  object \n",
      " 28  state                   object \n",
      " 29  age                     int64  \n",
      " 30  date_joined             object \n",
      " 31  n_dependants            int64  \n",
      " 32  fam_status              object \n",
      " 33  income                  int64  \n",
      "dtypes: float64(3), int64(17), object(14)\n",
      "memory usage: 8.5+ GB\n"
     ]
    }
   ],
   "source": [
    "df_prep.info()"
   ]
  },
  {
   "cell_type": "code",
   "execution_count": 67,
   "id": "4e6f6cde",
   "metadata": {},
   "outputs": [
    {
     "data": {
      "text/plain": [
       "(32404859, 34)"
      ]
     },
     "execution_count": 67,
     "metadata": {},
     "output_type": "execute_result"
    }
   ],
   "source": [
    "df_prep.shape"
   ]
  },
  {
   "cell_type": "code",
   "execution_count": 68,
   "id": "da82ac37",
   "metadata": {},
   "outputs": [],
   "source": [
    "#rename clean dataframe\n",
    "df_insta = df_prep"
   ]
  },
  {
   "cell_type": "code",
   "execution_count": 69,
   "id": "78539746",
   "metadata": {},
   "outputs": [
    {
     "name": "stdout",
     "output_type": "stream",
     "text": [
      "<class 'pandas.core.frame.DataFrame'>\n",
      "Int64Index: 32404859 entries, 0 to 32404858\n",
      "Data columns (total 34 columns):\n",
      " #   Column                  Dtype  \n",
      "---  ------                  -----  \n",
      " 0   Unnamed: 0              int64  \n",
      " 1   Unnamed: 0_x            int64  \n",
      " 2   order_id                int64  \n",
      " 3   user_id                 int64  \n",
      " 4   eval_set                object \n",
      " 5   order_number            int64  \n",
      " 6   order_dow               int64  \n",
      " 7   order_hour_of_day       int64  \n",
      " 8   days_since_prior_order  float64\n",
      " 9   product_id              int64  \n",
      " 10  add_to_cart_order       int64  \n",
      " 11  reordered               int64  \n",
      " 12  _merge                  object \n",
      " 13  Unnamed: 0_y            int64  \n",
      " 14  product_name            object \n",
      " 15  aisle_id                int64  \n",
      " 16  department_id           int64  \n",
      " 17  prices                  float64\n",
      " 18  price_range_loc         object \n",
      " 19  busiest_day             object \n",
      " 20  busiest_days            object \n",
      " 21  busy_hour               object \n",
      " 22  max_order               int64  \n",
      " 23  loyalty_flag            object \n",
      " 24  order_frequency         float64\n",
      " 25  frequency_flag          object \n",
      " 26  spender_type            object \n",
      " 27  gender                  object \n",
      " 28  state                   object \n",
      " 29  age                     int64  \n",
      " 30  date_joined             object \n",
      " 31  n_dependants            int64  \n",
      " 32  fam_status              object \n",
      " 33  income                  int64  \n",
      "dtypes: float64(3), int64(17), object(14)\n",
      "memory usage: 8.5+ GB\n"
     ]
    }
   ],
   "source": [
    "#all rows merged. No data loss, same number of rows before and after merging.\n",
    "df_prep.info()"
   ]
  },
  {
   "cell_type": "markdown",
   "id": "05b5e3c6",
   "metadata": {},
   "source": [
    "## 8. Export as pickle"
   ]
  },
  {
   "cell_type": "code",
   "execution_count": 70,
   "id": "1df28dcc",
   "metadata": {},
   "outputs": [],
   "source": [
    "#Export in pkl format\n",
    "df_insta.to_pickle(os.path.join(path, '02 Data','Prepared Data', 'df_insta_4_9p1.pkl'))"
   ]
  },
  {
   "cell_type": "code",
   "execution_count": null,
   "id": "27063a19",
   "metadata": {},
   "outputs": [],
   "source": []
  }
 ],
 "metadata": {
  "kernelspec": {
   "display_name": "Python 3 (ipykernel)",
   "language": "python",
   "name": "python3"
  },
  "language_info": {
   "codemirror_mode": {
    "name": "ipython",
    "version": 3
   },
   "file_extension": ".py",
   "mimetype": "text/x-python",
   "name": "python",
   "nbconvert_exporter": "python",
   "pygments_lexer": "ipython3",
   "version": "3.9.12"
  }
 },
 "nbformat": 4,
 "nbformat_minor": 5
}
